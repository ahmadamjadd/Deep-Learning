{
 "cells": [
  {
   "cell_type": "code",
   "execution_count": null,
   "id": "6c5d7092-d40a-46bf-9168-2557e2a4c9ba",
   "metadata": {},
   "outputs": [],
   "source": [
    "import tensorflow as tf\n",
    "\n",
    "gpus = tf.config.list_physical_devices('GPU')\n",
    "if gpus:\n",
    "    try:\n",
    "        for gpu in gpus:\n",
    "            tf.config.experimental.set_memory_growth(gpu, True)\n",
    "        print(\"GPU is available and memory growth is set.\")\n",
    "    except RuntimeError as e:\n",
    "        print(e)\n",
    "else:\n",
    "    print(\"No GPU found. Using CPU.\")\n"
   ]
  },
  {
   "cell_type": "code",
   "execution_count": null,
   "id": "36b04b83-1c28-400d-8dcb-7b85c4bba6a7",
   "metadata": {
    "id": "36b04b83-1c28-400d-8dcb-7b85c4bba6a7"
   },
   "outputs": [],
   "source": [
    "import tensorflow as tf\n",
    "import numpy as np\n",
    "import matplotlib.pyplot as plt\n",
    "from tensorflow.keras.applications import ResNet50, VGG19, EfficientNetB0, EfficientNetB3\n",
    "from tensorflow.keras.layers import Dense, Flatten, GlobalAveragePooling2D, InputLayer, Dropout, LeakyReLU, BatchNormalization\n",
    "from tensorflow.keras.models import Sequential\n",
    "from tensorflow.keras.callbacks import EarlyStopping, TensorBoard, LearningRateScheduler\n",
    "from tensorflow.keras.preprocessing.image import ImageDataGenerator\n",
    "from tensorflow.keras.callbacks import TensorBoard\n",
    "import os\n",
    "from tensorflow.keras import regularizers\n",
    "from tensorflow.keras.optimizers import Adam\n",
    "from tensorflow.keras.utils import plot_model\n",
    "from tensorflow.keras.layers import Activation\n",
    "\n",
    "import datetime\n",
    "import matplotlib.pyplot as plt\n",
    "from keras_tuner import RandomSearch\n",
    "from keras import regularizers\n",
    "from tensorflow import keras\n"
   ]
  },
  {
   "cell_type": "code",
   "execution_count": null,
   "id": "3ff9a4f4-267f-47cc-acd2-d967e9774ec5",
   "metadata": {},
   "outputs": [],
   "source": [
    "def augment_image(image, label):\n",
    "    image = tf.image.random_flip_left_right(image)\n",
    "    image = tf.image.random_flip_up_down(image)\n",
    "    return image, label\n"
   ]
  },
  {
   "cell_type": "code",
   "execution_count": null,
   "id": "7fcd6fbf-0323-40f8-a775-cbbef77811a4",
   "metadata": {},
   "outputs": [],
   "source": [
    "import tensorflow as tf\n",
    "\n",
    "train_dir = '/mnt/e/Documents/Course/Deep Learning/Projects/Deep Learning Projects/CancerDetection/Dataset/train'  \n",
    "val_dir = '/mnt/e/Documents/Course/Deep Learning/Projects/Deep Learning Projects/CancerDetection/Dataset/val' \n",
    "\n",
    "train_dataset = tf.keras.preprocessing.image_dataset_from_directory(\n",
    "    train_dir,\n",
    "    labels='inferred', \n",
    "    label_mode='binary',   \n",
    "    image_size=(224, 224),  \n",
    "    batch_size=32, \n",
    "    shuffle=True,  \n",
    "    seed=42,  \n",
    ")\n",
    "\n",
    "val_dataset = tf.keras.preprocessing.image_dataset_from_directory(\n",
    "    val_dir,\n",
    "    labels='inferred',\n",
    "    label_mode='binary',\n",
    "    image_size=(224, 224),\n",
    "    batch_size=32,\n",
    "    shuffle=True,\n",
    "    seed=42,\n",
    ")\n",
    "\n",
    "class_names = train_dataset.class_names\n",
    "print(\"Class names:\", class_names)\n"
   ]
  },
  {
   "cell_type": "code",
   "execution_count": null,
   "id": "e54c1888-95f4-465f-81c1-7f63ff139029",
   "metadata": {
    "id": "e54c1888-95f4-465f-81c1-7f63ff139029"
   },
   "outputs": [],
   "source": [
    "train_dataset = train_dataset.map(augment_image)"
   ]
  },
  {
   "cell_type": "code",
   "execution_count": null,
   "id": "800215c3-561d-4e4e-a613-ff6527d5c74d",
   "metadata": {},
   "outputs": [],
   "source": [
    "val_dataset = val_dataset.prefetch(buffer_size=tf.data.AUTOTUNE)\n",
    "train_dataset = train_dataset.prefetch(buffer_size=tf.data.AUTOTUNE)"
   ]
  },
  {
   "cell_type": "code",
   "execution_count": null,
   "id": "fcdea38f-fed8-4bed-9a0b-5cc096df9844",
   "metadata": {},
   "outputs": [],
   "source": [
    "def display_random_images(dataset, num_images=16):\n",
    "    plt.figure(figsize=(10, 10))\n",
    "    for images, labels in dataset.take(1): \n",
    "        for i in range(num_images):\n",
    "            ax = plt.subplot(4, 4, i + 1)\n",
    "            random_index = np.random.randint(0, images.shape[0]) \n",
    "            plt.imshow(images[random_index].numpy().astype(\"uint8\"))  \n",
    "            plt.title(class_names[int(labels[random_index].numpy())]) \n",
    "            plt.axis(\"off\")\n",
    "\n",
    "display_random_images(train_dataset, num_images=16)\n",
    "plt.show()"
   ]
  },
  {
   "cell_type": "code",
   "execution_count": null,
   "id": "1cca835b-e5ff-4336-87f4-a33b7a8cf956",
   "metadata": {
    "id": "1cca835b-e5ff-4336-87f4-a33b7a8cf956"
   },
   "outputs": [],
   "source": [
    "early_stopping = EarlyStopping(monitor=\"val_loss\", patience = 10, restore_best_weights=True)"
   ]
  },
  {
   "cell_type": "code",
   "execution_count": null,
   "id": "57f9608c-f647-4736-b34b-5da37739750c",
   "metadata": {},
   "outputs": [],
   "source": [
    "total_layers = len(base_model.layers)\n",
    "print(total_layers)"
   ]
  },
  {
   "cell_type": "code",
   "execution_count": null,
   "id": "afcdeb09-d31a-4929-a0bb-b831a6d40617",
   "metadata": {},
   "outputs": [],
   "source": [
    "base_model = EfficientNetB3(weights='imagenet', include_top=False, input_shape=(224, 224, 3))\n",
    "\n",
    "for layer in base_model.layers[:30]:\n",
    "    layer.trainable = False\n",
    "\n",
    "for layer in base_model.layers[30:]:\n",
    "    layer.trainable = True\n",
    "\n",
    "model = Sequential([\n",
    "    base_model,\n",
    "    GlobalAveragePooling2D(),\n",
    "    Dense(64,activation='relu', kernel_regularizer=tf.keras.regularizers.l2(0.01)),\n",
    "    BatchNormalization(),  \n",
    "    Dropout(0.5),  \n",
    "    Dense(1, activation='sigmoid')  \n",
    "])\n",
    "\n",
    "optimizer = Adam(learning_rate = 1e-3)\n",
    "\n",
    "model.compile(optimizer=optimizer, loss='binary_crossentropy', metrics=['accuracy'])\n",
    "\n",
    "model.summary()\n"
   ]
  },
  {
   "cell_type": "code",
   "execution_count": null,
   "id": "c5rE-Z8ssVWQ",
   "metadata": {
    "colab": {
     "base_uri": "https://localhost:8080/",
     "height": 391
    },
    "id": "c5rE-Z8ssVWQ",
    "outputId": "1692cf2c-caf0-45f6-9e22-6efbb33a6f09"
   },
   "outputs": [],
   "source": [
    "history = model.fit(\n",
    "    train_dataset,\n",
    "    validation_data=val_dataset,\n",
    "    epochs=500,\n",
    "    callbacks=[early_stopping]\n",
    ")"
   ]
  },
  {
   "cell_type": "code",
   "execution_count": null,
   "id": "iPQOR87fXzKM",
   "metadata": {
    "id": "iPQOR87fXzKM"
   },
   "outputs": [],
   "source": [
    "\n",
    "\n",
    "# Plot training & validation accuracy values\n",
    "plt.figure(figsize=(12, 4))\n",
    "\n",
    "plt.subplot(1, 2, 1)\n",
    "plt.plot(history.history['accuracy'])\n",
    "plt.plot(history.history['val_accuracy'])\n",
    "plt.title('Model Accuracy')\n",
    "plt.ylabel('Accuracy')\n",
    "plt.xlabel('Epoch')\n",
    "plt.legend(['Train', 'Validation'], loc='upper left')\n",
    "\n",
    "# Plot training & validation loss values\n",
    "plt.subplot(1, 2, 2)\n",
    "plt.plot(history.history['loss'])\n",
    "plt.plot(history.history['val_loss'])\n",
    "plt.title('Model Loss')\n",
    "plt.ylabel('Loss')\n",
    "plt.xlabel('Epoch')\n",
    "plt.legend(['Train', 'Validation'], loc='upper left')\n",
    "\n",
    "plt.show()\n"
   ]
  },
  {
   "cell_type": "code",
   "execution_count": null,
   "id": "668856ae-8aa2-420d-9939-24487954c8f5",
   "metadata": {},
   "outputs": [],
   "source": [
    "test_dataset = tf.keras.preprocessing.image_dataset_from_directory(\n",
    "    \"/mnt/e/Documents/Course/Deep Learning/Projects/Deep Learning Projects/CancerDetection/Dataset/test\",\n",
    "    labels='inferred',\n",
    "    label_mode='binary',\n",
    "    image_size=(224, 224),\n",
    "    batch_size=32,\n",
    "    shuffle=True,\n",
    "    seed=42,\n",
    ")"
   ]
  },
  {
   "cell_type": "code",
   "execution_count": null,
   "id": "ab99397d-d18f-4585-8960-d940144c0650",
   "metadata": {},
   "outputs": [],
   "source": [
    "import numpy as np\n",
    "\n",
    "# Assuming test_dataset is your dataset loaded with image_dataset_from_directory\n",
    "y_true = []\n",
    "y_pred = []\n",
    "\n",
    "# Loop through the dataset and collect true labels (y_true)\n",
    "for images, labels in test_dataset:\n",
    "    y_true.extend(labels.numpy())  # Extract true labels (y_true)\n",
    "\n",
    "# Get predicted probabilities from the model\n",
    "y_pred_prob = model.predict(test_dataset)\n",
    "\n",
    "# Convert predicted probabilities to class labels (y_pred)\n",
    "# For binary classification, we assume a threshold of 0.5\n",
    "y_pred = (y_pred_prob > 0.5).astype(int)  # Convert probabilities to binary labels (0 or 1)\n",
    "\n",
    "# Convert y_true list to a numpy array\n",
    "y_true = np.array(y_true)\n",
    "\n",
    "print(f\"True labels: {y_true}\")\n",
    "print(f\"Predicted labels: {y_pred}\")\n",
    "\n"
   ]
  },
  {
   "cell_type": "code",
   "execution_count": null,
   "id": "99b34b30-5554-4997-a9b6-6e0b8f96090c",
   "metadata": {},
   "outputs": [],
   "source": [
    "!pip install scikit-learn\n"
   ]
  },
  {
   "cell_type": "code",
   "execution_count": null,
   "id": "67a70117-b556-414c-af0c-6a49e6dd1cd7",
   "metadata": {},
   "outputs": [],
   "source": [
    "from sklearn.metrics import confusion_matrix, ConfusionMatrixDisplay\n",
    "import matplotlib.pyplot as plt\n",
    "\n",
    "# Assuming `y_true` are true labels and `y_pred` are predicted labels\n",
    "cm = confusion_matrix(y_true, y_pred)\n",
    "disp = ConfusionMatrixDisplay(confusion_matrix=cm)\n",
    "disp.plot(cmap=plt.cm.Blues)\n",
    "plt.show()\n"
   ]
  },
  {
   "cell_type": "code",
   "execution_count": null,
   "id": "6ff613dc-b501-462d-a5e6-73e91446aa38",
   "metadata": {},
   "outputs": [],
   "source": []
  }
 ],
 "metadata": {
  "accelerator": "GPU",
  "colab": {
   "gpuType": "T4",
   "provenance": []
  },
  "kernelspec": {
   "display_name": "Python 3 (ipykernel)",
   "language": "python",
   "name": "python3"
  },
  "language_info": {
   "codemirror_mode": {
    "name": "ipython",
    "version": 3
   },
   "file_extension": ".py",
   "mimetype": "text/x-python",
   "name": "python",
   "nbconvert_exporter": "python",
   "pygments_lexer": "ipython3",
   "version": "3.12.5"
  }
 },
 "nbformat": 4,
 "nbformat_minor": 5
}
